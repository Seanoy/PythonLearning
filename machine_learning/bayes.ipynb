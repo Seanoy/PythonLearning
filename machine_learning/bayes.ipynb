{
 "cells": [
  {
   "cell_type": "code",
   "execution_count": 7,
   "metadata": {
    "collapsed": false
   },
   "outputs": [
    {
     "name": "stdout",
     "output_type": "stream",
     "text": [
      "feature counts:\n{0: array([1, 2, 0, 4]), 1: array([1, 3, 3, 0])}\n"
     ]
    }
   ],
   "source": [
    "# 朴素贝叶斯是一种基于贝叶斯理论的有效监督学习算法，\n",
    "# 之所以称之为”朴素“，是因为它是基于样本特征之间互相独立的”朴素”假设\n",
    "# 正因如此，不需要考虑样本特征之间的关系，贝叶斯分类器的效率非常高\n",
    "\n",
    "# 导入numpy\n",
    "import numpy as np\n",
    "# 将X，y赋值为np数组\n",
    "X = np.array([[0, 1, 0, 1],\n",
    "              [1, 1, 1, 0],\n",
    "              [0, 1, 1, 0],\n",
    "              [0, 0, 0, 1],\n",
    "              [0, 1, 1, 0],\n",
    "              [0, 1, 0, 1],\n",
    "              [1, 0, 0, 1]])\n",
    "y = np.array([0, 1, 1, 0, 1, 0, 0])\n",
    "# 对不同分类计算每个特征为1的数量\n",
    "counts = {}\n",
    "for label in np.unique(y):\n",
    "    counts[label] = X[y == label].sum(axis=0)\n",
    "# 打印计数结果\n",
    "print(\"feature counts:\\n{}\".format(counts))\n"
   ]
  },
  {
   "cell_type": "code",
   "execution_count": 12,
   "metadata": {},
   "outputs": [
    {
     "name": "stdout",
     "output_type": "stream",
     "text": [
      "rain!!\nno rain\nnextday probability: [[0.13848881 0.86151119]]\nanotherday probability: [[0.92340878 0.07659122]]\n"
     ]
    }
   ],
   "source": [
    "# 导入伯努利贝叶斯\n",
    "from sklearn.naive_bayes import BernoulliNB\n",
    "# 使用伯努利贝叶斯拟合数据\n",
    "clf = BernoulliNB()\n",
    "clf.fit(X, y)\n",
    "# 要进行预测的这一天，没有刮台风，也不闷热\n",
    "# 但是多云，天气预报说没有雨\n",
    "nextDay = [[0, 0, 1, 0]]\n",
    "pre = clf.predict(nextDay)\n",
    "if pre == [1]:\n",
    "    print(\"rain!!\")\n",
    "else:\n",
    "    print(\"no rain\")\n",
    "\n",
    "anotherDay = [[1, 1, 0, 1]]\n",
    "pre2 = clf.predict(anotherDay)\n",
    "if pre2 == [1]:    \n",
    "    print(\"rain!!!\")\n",
    "else:\n",
    "    print(\"no rain\")\n",
    "# 获取准确率\n",
    "# nextday下雨的概率为86%\n",
    "print(\"nextday probability:\", clf.predict_proba(nextDay))\n",
    "# anotherday不下雨的概率为92%\n",
    "print(\"anotherday probability:\", clf.predict_proba(anotherDay))\n"
   ]
  },
  {
   "cell_type": "code",
   "execution_count": 14,
   "metadata": {},
   "outputs": [
    {
     "name": "stdout",
     "output_type": "stream",
     "text": [
      "scores:0.544\n"
     ]
    }
   ],
   "source": [
    "# 朴素贝叶斯有三种方法：\n",
    "# ①伯努利朴素贝叶斯（Bernoulli Naive Bayes）\n",
    "# ②高斯贝叶斯（Gaussian Naive Bayes）\n",
    "# ③多项式贝叶斯（Multinomial Naive Bayes）\n",
    "\n",
    "# 伯努利朴素贝叶斯，适合处理伯努利分布的数据集，即二项分布/0-1分布\n",
    "\n",
    "# 假如使用复杂的数据集\n",
    "# 导入数据集生成工具\n",
    "from sklearn.datasets import make_blobs\n",
    "# 导入数据集分析工具\n",
    "from sklearn.model_selection import train_test_split\n",
    "# 生成样本数为500，分类数为5的数据集\n",
    "X, y = make_blobs(n_samples=500, centers=5, random_state=8)\n",
    "# 将数据集拆分成训练集和测试集\n",
    "X_train, X_test, y_train, y_test = train_test_split(X, y, random_state=8)\n",
    "# 使用伯努利朴素贝叶斯拟合数据\n",
    "nb = BernoulliNB()\n",
    "nb.fit(X_train, y_train)\n",
    "print(\"scores:{:.3f}\".format(nb.score(X_test, y_test)))\n",
    "\n"
   ]
  },
  {
   "cell_type": "code",
   "execution_count": null,
   "metadata": {},
   "outputs": [],
   "source": []
  }
 ],
 "metadata": {
  "kernelspec": {
   "display_name": "Python 2",
   "language": "python",
   "name": "python2"
  },
  "language_info": {
   "codemirror_mode": {
    "name": "ipython",
    "version": 2
   },
   "file_extension": ".py",
   "mimetype": "text/x-python",
   "name": "python",
   "nbconvert_exporter": "python",
   "pygments_lexer": "ipython2",
   "version": "2.7.6"
  }
 },
 "nbformat": 4,
 "nbformat_minor": 0
}
