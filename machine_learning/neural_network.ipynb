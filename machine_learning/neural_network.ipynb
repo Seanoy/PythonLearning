{
 "cells": [
  {
   "cell_type": "code",
   "execution_count": null,
   "metadata": {
    "collapsed": true
   },
   "outputs": [],
   "source": [
    "# 多层神经网络又称深度学习，神经网络中使用的是多层感知器(Multilayer Perceptron，MLP)，MLP也被称为前馈神经网络\n",
    "# 神经网络的原理和前面说的线性模型很像，线性模型一般公式 y-hat = w[0]·x[0]+w[1]·x[1]+...+w[p]·x[p]+b\n",
    "# 但是有区别，其中最大的地方就是在MLP模型中，算法在过程里面添加了隐藏层(Hidden Layers)，然后在隐藏层重复进行加权求和计算，最终把隐藏层算出的结果用于生成最终结果。\n",
    "# 这样的话，模型要学习的特征系数（权重）就会多很多，因为每一条路径都有一个系数。\n",
    "\n",
    "# 从数学的角度看，他跟线性模型没什么两样，但为了能更突出神经网络的强大，需要对其进行一些处理。\n",
    "# 这处理便是在生成隐藏层之后，对结果进行非线性矫正(rectifying nonlinearity)，简称为relu(rectified linear unit)\n",
    "# 或者进行双曲正切处理(tangens hyperbolicus)，简称为tanh。通过这两种方式处理后的结果来计算最终结果y。\n",
    "\n",
    "\n"
   ]
  }
 ],
 "metadata": {
  "kernelspec": {
   "display_name": "Python 2",
   "language": "python",
   "name": "python2"
  },
  "language_info": {
   "codemirror_mode": {
    "name": "ipython",
    "version": 2
   },
   "file_extension": ".py",
   "mimetype": "text/x-python",
   "name": "python",
   "nbconvert_exporter": "python",
   "pygments_lexer": "ipython2",
   "version": "2.7.6"
  }
 },
 "nbformat": 4,
 "nbformat_minor": 0
}
